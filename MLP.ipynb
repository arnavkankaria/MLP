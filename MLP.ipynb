{
 "cells": [
  {
   "cell_type": "code",
   "execution_count": 135,
   "id": "0f6daa45",
   "metadata": {},
   "outputs": [],
   "source": [
    "import torch\n",
    "import torch.nn.functional as F\n",
    "import matplotlib.pyplot as plt\n",
    "%matplotlib inline"
   ]
  },
  {
   "cell_type": "code",
   "execution_count": 136,
   "id": "626092b0",
   "metadata": {},
   "outputs": [],
   "source": [
    "names = open('names.txt', 'r').read().splitlines()\n",
    "\n",
    "#Dictionary mapping characters to integers\n",
    "chars = sorted(list(set(''.join(names))))\n",
    "stoi = {s:i+1 for i, s in enumerate(chars)}\n",
    "stoi['.'] = 0\n",
    "itos = {i:s for s, i in stoi.items()}"
   ]
  },
  {
   "cell_type": "code",
   "execution_count": 137,
   "id": "d36896eb",
   "metadata": {},
   "outputs": [],
   "source": [
    "block_size = 3 #context length\n",
    "X, Y = [], [] #inputs and labels for NN\n",
    "for n in names:\n",
    "    context = [0] * block_size #padding for initial characters\n",
    "    for ch in n + '.':\n",
    "        index = stoi[ch]\n",
    "        X.append(context)\n",
    "        Y.append(index)\n",
    "        context = context[1:] + [index] #remove and append\n",
    "\n",
    "X = torch.tensor(X)\n",
    "Y = torch.tensor(Y)"
   ]
  },
  {
   "cell_type": "code",
   "execution_count": 138,
   "id": "3af16cb1",
   "metadata": {},
   "outputs": [],
   "source": [
    "#build the dataset with train, validation and test sets\n",
    "def build_dataset(names):\n",
    "    context_size = 3\n",
    "    X, Y = [], []\n",
    "    for n in names:\n",
    "        context = [0] * context_size\n",
    "        for ch in n + '.':\n",
    "            ix = stoi[ch]\n",
    "            X.append(context)\n",
    "            Y.append(ix)\n",
    "            context = context [1:] + [ix]\n",
    "        \n",
    "    X = torch.tensor(X)\n",
    "    Y = torch.tensor(Y)\n",
    "    return X, Y\n",
    "\n",
    "import random\n",
    "random.seed(42)\n",
    "random.shuffle(names)\n",
    "split1 = int(0.8*len(names)) #Index of 80% of dataset\n",
    "split2 = int(0.9*len(names)) #Index of 90% of dataset\n",
    "\n",
    "#Splits\n",
    "Xtr, Ytr = build_dataset(names[:split1]) #80% of dataset\n",
    "Xval, Yval = build_dataset(names[split1:split2]) #Next 10% for validation\n",
    "Xte, Yte = build_dataset(names[split2:]) #Last 10% for test split.                                                                                      \n"
   ]
  },
  {
   "cell_type": "code",
   "execution_count": 139,
   "id": "87ce1bdb",
   "metadata": {},
   "outputs": [],
   "source": [
    "g = torch.Generator().manual_seed(2147483647)\n",
    "#Lookup table for embedding\n",
    "C = torch.randn((27, 10), generator=g) #2 dimensions for all 27 characters\n",
    "#------------------------\n",
    "#emb = C[X]\n",
    "#emb.shape \n",
    "#------------------------\n",
    "#C is a list of 27 vectors of size 2(embedding for each character)\n",
    "#X is a grid of numbers with no of rows = no of examples and context window size columns\n",
    "#We need to get embeddings so we need to index into C using X where each number in X tells you which row to pick from C\n",
    "#So C[X] returns a new grid that’s the same shape as X (32 × 3), but instead of just numbers, each cell now holds a 2-value vector from C\n",
    "#Hence the shape becomes (32, 3, 2)\n",
    "#Example: X[13, 2] = 5 (X 13th row, 2nd column) = 5\n",
    "#C[X][13, 2] = C[5] = [a1, a2]\n"
   ]
  },
  {
   "cell_type": "code",
   "execution_count": 140,
   "id": "07efc4fb",
   "metadata": {},
   "outputs": [],
   "source": [
    "#Not needed anymore\n",
    "lre = torch.linspace (-3, 0, 1000) #Linearly create 1000 numbers from -3 to 1\n",
    "lrs = 10**lre #Space the learning rates exponentially rather than linearly (10^-3 to 10^0)"
   ]
  },
  {
   "cell_type": "code",
   "execution_count": 141,
   "id": "7e3912a0",
   "metadata": {},
   "outputs": [],
   "source": [
    "lri = []\n",
    "lossi = []\n",
    "stepi = []"
   ]
  },
  {
   "cell_type": "code",
   "execution_count": 142,
   "id": "b0e79ffe",
   "metadata": {},
   "outputs": [
    {
     "name": "stdout",
     "output_type": "stream",
     "text": [
      "2.8554205894470215\n"
     ]
    }
   ],
   "source": [
    "W1 = torch.randn((30, 200), generator=g) #30 inputs (3 ten dimensional embeddings), no of outputs = 200 neurons\n",
    "b1 = torch.randn(200, generator=g)\n",
    "W2 = torch.randn((200, 27), generator=g)\n",
    "b2 = torch.randn(27, generator=g)\n",
    "parameters = [C, W1, b1, W2, b2]\n",
    "for p in parameters:\n",
    "     p.requires_grad = True\n",
    "\n",
    "for i in range (20000):\n",
    "    #minibatch: Train on batches\n",
    "    batchIndexes = torch.randint(0, Xtr.shape[0], (32,)) #32 random rows from X\n",
    "\n",
    "    #Embedding (see above)\n",
    "    emb = C[Xtr[batchIndexes]]\n",
    "\n",
    "    #Concatenate the embedding (concatenate so that each example has its 3 * 2 values in one row)\n",
    "    #torch.cat(torch.unbind(emb, 1), 1) #unbind along dimension 1 and concatenate to get 32 rows of 6 values each\n",
    "    h = torch.tanh(emb.view(-1, 30) @ W1 + b1) #emb.view reshapes the tensor (does not need new memory) into 30 columsn and the -1 means python will infer the number of rows which is emb.shape[0]\n",
    "\n",
    "    #Forward Pass\n",
    "    logits = h @ W2 + b2\n",
    "\n",
    "    #Old loss implementation\n",
    "    #counts = logits.exp()\n",
    "    #prob = counts / counts.sum(1, keepdims=True)\n",
    "    #loss = -prob[torch.arange(32), Y].log().mean() #For all 32 examples index the probabilities with Y to get the prob predicted of the actual answer. Then take negative log likelihood\n",
    "    loss = F.cross_entropy(logits, Ytr[batchIndexes]) #More efficient (forward and backward passes) and numerically well behaved\n",
    "\n",
    "    #Backward Pass\n",
    "    for p in parameters:\n",
    "        p.grad = None\n",
    "    loss.backward()\n",
    "\n",
    "    #Update\n",
    "    #lr = lrs[i]\n",
    "    lr = 0.1 if i < 100000 else 0.01\n",
    "    for p in parameters:\n",
    "        p.data += -lr * p.grad\n",
    "    \n",
    "    #Track learning rate\n",
    "    #lri.append(lre[i])\n",
    "    #lossi.append(loss.item())\n",
    "    stepi.append(i)\n",
    "    lossi.append(loss.log10().item())\n",
    "print(loss.item())"
   ]
  },
  {
   "cell_type": "code",
   "execution_count": 143,
   "id": "5f466774",
   "metadata": {},
   "outputs": [
    {
     "data": {
      "text/plain": [
       "[<matplotlib.lines.Line2D at 0x17eeec4d0>]"
      ]
     },
     "execution_count": 143,
     "metadata": {},
     "output_type": "execute_result"
    },
    {
     "data": {
      "image/png": "[encoded data removed]",
      "text/plain": [
       "<Figure size 640x480 with 1 Axes>"
      ]
     },
     "metadata": {},
     "output_type": "display_data"
    }
   ],
   "source": [
    "plt.plot(stepi, lossi)"
   ]
  },
  {
   "cell_type": "code",
   "execution_count": 144,
   "id": "468c8c0e",
   "metadata": {},
   "outputs": [
    {
     "data": {
      "text/plain": [
       "tensor(2.4820, grad_fn=<NllLossBackward0>)"
      ]
     },
     "execution_count": 144,
     "metadata": {},
     "output_type": "execute_result"
    }
   ],
   "source": [
    "#Loss on validation \n",
    "emb = C[Xval]\n",
    "h = torch.tanh(emb.view(-1, 30) @ W1 + b1) \n",
    "logits = h @ W2 + b2\n",
    "loss = F.cross_entropy(logits, Yval)\n",
    "loss"
   ]
  },
  {
   "cell_type": "code",
   "execution_count": 145,
   "id": "c8665c46",
   "metadata": {},
   "outputs": [
    {
     "data": {
      "text/plain": [
       "tensor(2.4725, grad_fn=<NllLossBackward0>)"
      ]
     },
     "execution_count": 145,
     "metadata": {},
     "output_type": "execute_result"
    }
   ],
   "source": [
    "#Test loss\n",
    "emb = C[Xte]\n",
    "h = torch.tanh(emb.view(-1, 30) @ W1 + b1) \n",
    "logits = h @ W2 + b2\n",
    "loss = F.cross_entropy(logits, Yte)\n",
    "loss"
   ]
  },
  {
   "cell_type": "code",
   "execution_count": null,
   "id": "240a8c59",
   "metadata": {},
   "outputs": [
    {
     "name": "stdout",
     "output_type": "stream",
     "text": [
      "chrich.\n",
      "amiyh.\n",
      "kih.\n",
      "jora.\n",
      "reviy.\n",
      "skany.\n",
      "kena.\n",
      "huna.\n",
      "dppyvia.\n",
      "ireei.\n",
      "neamara.\n",
      "chaiivia.\n",
      "leigh.\n",
      "ham.\n",
      "pois.\n",
      "quinn.\n",
      "suli.\n",
      "rai.\n",
      "ivia.\n",
      "wazelo.\n"
     ]
    }
   ],
   "source": [
    "#Sample from model\n",
    "g = torch.Generator().manual_seed(2147483647 + 10)\n",
    "\n",
    "for _ in range(20):\n",
    "    out = []\n",
    "    context = [0] * block_size #Inital context is . . .\n",
    "\n",
    "    while True: \n",
    "      emb = C[torch.tensor([context])] #Embed context\n",
    "      h = torch.tanh(emb.view(1, -1) @ W1 + b1) # First layer\n",
    "      logits = h @ W2 + b2 #Second layer output logits\n",
    "      probs = F.softmax(logits, dim=1) #Probabilities\n",
    "      ix = torch.multinomial(probs, num_samples=1, generator=g).item() #Sample\n",
    "      context = context[1:] + [ix] #Update context\n",
    "      out.append(ix)\n",
    "      if ix == 0: #If ending character stop generation\n",
    "        break\n",
    "    \n",
    "    print(''.join(itos[i] for i in out))\n"
   ]
  }
 ],
 "metadata": {
  "kernelspec": {
   "display_name": "base",
   "language": "python",
   "name": "python3"
  },
  "language_info": {
   "codemirror_mode": {
    "name": "ipython",
    "version": 3
   },
   "file_extension": ".py",
   "mimetype": "text/x-python",
   "name": "python",
   "nbconvert_exporter": "python",
   "pygments_lexer": "ipython3",
   "version": "3.12.4"
  }
 },
 "nbformat": 4,
 "nbformat_minor": 5
}
