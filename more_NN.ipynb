{
 "cells": [
  {
   "cell_type": "code",
   "execution_count": 29,
   "id": "8a6cd7c5",
   "metadata": {},
   "outputs": [],
   "source": [
    "import torch \n",
    "import torch.nn.functional as F # stateless contains functions \n",
    "import matplotlib.pyplot as plt\n",
    "import random\n",
    "%matplotlib inline"
   ]
  },
  {
   "cell_type": "code",
   "execution_count": 30,
   "id": "80fc7f39",
   "metadata": {},
   "outputs": [],
   "source": [
    "# names dataset\n",
    "names = open(\"names.txt\", \"r\").read().splitlines()"
   ]
  },
  {
   "cell_type": "code",
   "execution_count": 31,
   "id": "58fe21fb",
   "metadata": {},
   "outputs": [],
   "source": [
    "# mapping from characters to strings\n",
    "chars = sorted(list(set(''.join(names)))) # flatten list of names into a single string\n",
    "stoi = {s:i+1 for i,s in enumerate(chars)}\n",
    "stoi['.'] = 0\n",
    "itos = {i:s for s,i in stoi.items()}\n",
    "vocab_size = len(itos)"
   ]
  },
  {
   "cell_type": "code",
   "execution_count": 32,
   "id": "22fa1458",
   "metadata": {},
   "outputs": [],
   "source": [
    "# build dataset of n grams\n",
    "context_size = 3 \n",
    "\n",
    "def build_dataset(names):\n",
    "    X, Y = [], []\n",
    "    for name in names:\n",
    "        context = [0] * context_size\n",
    "        for ch in name + '.':\n",
    "            index = stoi[ch]\n",
    "            X.append(context)\n",
    "            Y.append(index)\n",
    "            context = context[1:] + [index] # update context\n",
    "        \n",
    "    X = torch.tensor(X)\n",
    "    Y = torch.tensor(Y)\n",
    "    return X, Y        "
   ]
  },
  {
   "cell_type": "code",
   "execution_count": 33,
   "id": "8df61dde",
   "metadata": {},
   "outputs": [],
   "source": [
    "# create train, test, split sets\n",
    "random.seed(42)\n",
    "random.shuffle(names)\n",
    "\n",
    "#Splits\n",
    "split1 = int(0.8 * len(names))\n",
    "split2 = int(0.9 * len(names))\n",
    "\n",
    "Xtr, Ytr = build_dataset(names[:split1]) # train set: 80%\n",
    "Xdev, Ydev = build_dataset(names[split1:split2]) # validation set: 10%\n",
    "Xte, Yte = build_dataset(names[split2:]) # test set: 10%"
   ]
  },
  {
   "cell_type": "code",
   "execution_count": 34,
   "id": "b86848db",
   "metadata": {},
   "outputs": [],
   "source": [
    "# MLP\n",
    "\n",
    "# Hyperparameters\n",
    "n_emb = 10 # dimensionality of char embedding vector\n",
    "n_hidden = 200 # no of neurons in hidden layer\n",
    "\n",
    "g = torch.Generator().manual_seed(2147483647)\n",
    "\n",
    "# Model Paramters\n",
    "C = torch.randn((vocab_size, n_emb), generator=g) # embedding matrix\n",
    "W1 = torch.randn((n_emb * context_size, n_hidden), generator=g) # inputs and outputs of wights \n",
    "b1 = torch.randn(n_hidden, generator=g)\n",
    "W2 = torch.randn((n_hidden, vocab_size), generator=g)\n",
    "b2 = torch.randn(vocab_size, generator=g)\n",
    "\n",
    "parameters = [C, W1, b1, W2, b2]\n",
    "\n",
    "# Require gradient\n",
    "for p in parameters:\n",
    "    p.requires_grad = True"
   ]
  },
  {
   "cell_type": "code",
   "execution_count": 35,
   "id": "865e13a8",
   "metadata": {},
   "outputs": [
    {
     "name": "stdout",
     "output_type": "stream",
     "text": [
      "      0/ 200000: 27.8817\n",
      "  10000/ 200000: 2.8902\n",
      "  20000/ 200000: 2.5398\n",
      "  30000/ 200000: 2.6638\n",
      "  40000/ 200000: 2.0514\n",
      "  50000/ 200000: 2.4889\n",
      "  60000/ 200000: 2.4369\n",
      "  70000/ 200000: 2.1046\n",
      "  80000/ 200000: 2.3162\n",
      "  90000/ 200000: 2.1146\n",
      " 100000/ 200000: 1.9779\n",
      " 110000/ 200000: 2.5229\n",
      " 120000/ 200000: 2.1334\n",
      " 130000/ 200000: 2.5325\n",
      " 140000/ 200000: 2.3501\n",
      " 150000/ 200000: 2.2304\n",
      " 160000/ 200000: 2.3085\n",
      " 170000/ 200000: 1.8291\n",
      " 180000/ 200000: 2.3020\n",
      " 190000/ 200000: 2.0512\n"
     ]
    }
   ],
   "source": [
    "# optimization parameters\n",
    "iterations = 200000\n",
    "batch_size = 32\n",
    "lossi = []\n",
    "\n",
    "for i in range (iterations):\n",
    "    # minibatch\n",
    "    indexes = torch.randint(0, Xtr.shape[0], (batch_size,), generator=g) # get batch_size no of indexes \n",
    "    Xb, Yb = Xtr[indexes], Ytr[indexes]\n",
    "\n",
    "    # forward pass\n",
    "    emb = C[Xb] # embeddings for batch\n",
    "    emb_cat = emb.view(emb.shape[0],-1) # concatenate embeddings\n",
    "    hpreact = emb_cat @ W1 + b1 # preactivation (weights dot product embeddings + bias)\n",
    "    h = torch.tanh(hpreact) # tanh of preactivation so output is between (-1, 1)\n",
    "    logits = h @ W2 + b2\n",
    "    loss = F.cross_entropy(logits, Yb) # softmax + negative log likelihood\n",
    "\n",
    "    # backward pass\n",
    "    for p in parameters:\n",
    "        p.grad = None # reset gradients\n",
    "    loss.backward()\n",
    "\n",
    "    # update\n",
    "    lr = 0.1 if i < 10000 else 0.01 # step learning rate decay\n",
    "    for p in parameters:\n",
    "        p.data += -lr * p.grad\n",
    "    \n",
    "    # track loss\n",
    "    if i % 10000 == 0:\n",
    "        print(f'{i:7d}/{iterations:7d}: {loss.item():.4f}')\n",
    "    lossi.append (loss.log10().item())\n",
    "    \n"
   ]
  },
  {
   "cell_type": "code",
   "execution_count": 36,
   "id": "731fccb5",
   "metadata": {},
   "outputs": [
    {
     "data": {
      "text/plain": [
       "[<matplotlib.lines.Line2D at 0x135825670>]"
      ]
     },
     "execution_count": 36,
     "metadata": {},
     "output_type": "execute_result"
    },
    {
     "data": {
      "image/png": "[encoded data removed]",
      "text/plain": [
       "<Figure size 640x480 with 1 Axes>"
      ]
     },
     "metadata": {},
     "output_type": "display_data"
    }
   ],
   "source": [
    "plt.plot(lossi)"
   ]
  },
  {
   "cell_type": "code",
   "execution_count": null,
   "id": "581a7dbd",
   "metadata": {},
   "outputs": [
    {
     "name": "stdout",
     "output_type": "stream",
     "text": [
      "train 2.230722427368164\n",
      "val 2.250082015991211\n"
     ]
    }
   ],
   "source": [
    "# Calculate losses on splits\n",
    "@torch.no_grad() # decorater to disable gradient tracking, so model does not update parameters\n",
    "def split_loss(split):\n",
    "  x,y = {\n",
    "    'train': (Xtr, Ytr),\n",
    "    'val': (Xdev, Ydev),\n",
    "    'test': (Xte, Yte),\n",
    "  }[split]\n",
    "  emb = C[x]\n",
    "  embcat = emb.view(emb.shape[0], -1)\n",
    "  h = torch.tanh(embcat @ W1 + b1)\n",
    "  logits = h @ W2 + b2\n",
    "  loss = F.cross_entropy(logits, y)\n",
    "  print (split, loss.item())\n",
    "\n",
    "split_loss('train')\n",
    "split_loss('val')\n"
   ]
  },
  {
   "cell_type": "code",
   "execution_count": 38,
   "id": "6a464b8d",
   "metadata": {},
   "outputs": [
    {
     "name": "stdout",
     "output_type": "stream",
     "text": [
      "carlah.\n",
      "amorilli.\n",
      "kemri.\n",
      "rehty.\n",
      "sacessaeja.\n",
      "hutefaresarti.\n",
      "aqui.\n",
      "nellara.\n",
      "chaiir.\n",
      "kaleig.\n",
      "dham.\n",
      "jorn.\n",
      "quint.\n",
      "sroel.\n",
      "alian.\n",
      "quinaelo.\n",
      "dearynixfi.\n",
      "everludi.\n",
      "edde.\n",
      "oia.\n"
     ]
    }
   ],
   "source": [
    "# Sample from model\n",
    "\n",
    "g = torch.Generator().manual_seed(2147483647 + 10)\n",
    "\n",
    "for _ in range (20):\n",
    "    out = []\n",
    "    context = [0] * context_size\n",
    "    while (True):\n",
    "        # Forward pass\n",
    "        lookup = C[torch.tensor(context)]\n",
    "        emb = lookup.view(1, -1)\n",
    "        h = torch.tanh(emb @ W1 + b1)\n",
    "        logits = h @ W2 + b2\n",
    "        probs = F.softmax(logits, 1)\n",
    "        # sample\n",
    "        index = torch.multinomial(probs, num_samples=1, generator=g).item()\n",
    "        # update context\n",
    "        context = context[1:] + [index]\n",
    "        out.append(index)\n",
    "\n",
    "        if index == 0:\n",
    "            break\n",
    "    print(''.join(itos[i] for i in out))\n"
   ]
  }
 ],
 "metadata": {
  "kernelspec": {
   "display_name": "base",
   "language": "python",
   "name": "python3"
  },
  "language_info": {
   "codemirror_mode": {
    "name": "ipython",
    "version": 3
   },
   "file_extension": ".py",
   "mimetype": "text/x-python",
   "name": "python",
   "nbconvert_exporter": "python",
   "pygments_lexer": "ipython3",
   "version": "3.12.4"
  }
 },
 "nbformat": 4,
 "nbformat_minor": 5
}
