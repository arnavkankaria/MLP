{
 "cells": [
  {
   "cell_type": "code",
   "execution_count": 3,
   "id": "3fa72cd3",
   "metadata": {},
   "outputs": [],
   "source": [
    "#Get names dataset:\n",
    "names = open('names.txt', 'r').read().splitlines()\n",
    "\n",
    "b = {}\n",
    "for n in names:\n",
    "    #Add staring and ending special characters\n",
    "    n = [\"<S>\"] + list(n) + [\"<E>\"]\n",
    "    for ch1, ch2 in zip (n, n[1:]):\n",
    "        bigram = (ch1, ch2)\n",
    "        b[bigram] = b.get(bigram, 0) + 1\n"
   ]
  },
  {
   "cell_type": "code",
   "execution_count": 5,
   "id": "6aad1d79",
   "metadata": {},
   "outputs": [],
   "source": [
    "import torch\n",
    "a = torch.zeros((3, 5), dtype = torch.int32)\n"
   ]
  },
  {
   "cell_type": "code",
   "execution_count": null,
   "id": "b64009ea-7fa5-40fc-a5f2-9783cbfe5cb9",
   "metadata": {},
   "outputs": [],
   "source": []
  }
 ],
 "metadata": {
  "kernelspec": {
   "display_name": "Python 3 (ipykernel)",
   "language": "python",
   "name": "python3"
  },
  "language_info": {
   "codemirror_mode": {
    "name": "ipython",
    "version": 3
   },
   "file_extension": ".py",
   "mimetype": "text/x-python",
   "name": "python",
   "nbconvert_exporter": "python",
   "pygments_lexer": "ipython3",
   "version": "3.12.4"
  }
 },
 "nbformat": 4,
 "nbformat_minor": 5
}
